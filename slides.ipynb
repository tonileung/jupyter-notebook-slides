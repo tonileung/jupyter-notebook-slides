{
 "cells": [
  {
   "cell_type": "markdown",
   "metadata": {
    "nbpresent": {
     "id": "3cd92e93-d1f4-4faa-94bb-8eac1ffbc00d"
    },
    "slideshow": {
     "slide_type": "skip"
    }
   },
   "source": [
    "# Data Science Tools"
   ]
  },
  {
   "cell_type": "code",
   "execution_count": 1,
   "metadata": {
    "collapsed": false,
    "nbpresent": {
     "id": "a89124ee-7bf7-45c8-b198-4529daa369fb"
    },
    "slideshow": {
     "slide_type": "slide"
    }
   },
   "outputs": [
    {
     "data": {
      "text/html": [
       "<style>\n",
       "\n",
       "@font-face {\n",
       "    font-family: 'Cooper Hewit' ;\n",
       "    src: url(utils/CooperHewitt-Medium.otf);\n",
       "}\n",
       "\n",
       "@font-face {\n",
       "    font-family: 'Cooper Hewit Bold' ;\n",
       "    src: url(utils/CooperHewitt-Bold.otf);\n",
       "}\n",
       "\n",
       "@font-face {\n",
       "    font-family: 'Cooper Hewit Light' ;\n",
       "    src: url(utils/CooperHewitt-Light.otf);\n",
       "}\n",
       "\n",
       ".container {\n",
       "    width:96% !important;\n",
       "    font-family: 'Cooper Hewit','Source Sans Pro', 'Open Sans', 'Helvetica', Sans;\n",
       "}\n",
       "\n",
       ".text_cell_render h1 {\n",
       "    text-align: center;\n",
       "    font-family: 'Cooper Hewit Light';\n",
       "    font-size: 52px;\n",
       "}\n",
       "\n",
       "strong {\n",
       "    font-weight: bold;\n",
       "}\n",
       "\n",
       "h2, h3 {\n",
       "    font-family: 'Cooper Hewit Bold' ;\n",
       "}\n",
       "\n",
       ".text_cell_render p,\n",
       ".text_cell_render h2,\n",
       ".text_cell_render h3,\n",
       ".text_cell_render h4,\n",
       ".text_cell_render ul,\n",
       ".text_cell_render ol,\n",
       ".text_cell_render pre,\n",
       ".text_cell_render table {\n",
       "    max-width: 860px;\n",
       "    margin: 0 auto;\n",
       "    line-height: 30px;\n",
       "}\n",
       "\n",
       ".text_cell_render p,\n",
       ".text_cell_render ul,\n",
       ".text_cell_render ol,\n",
       ".text_cell_render table {\n",
       "    font-family: 'Cooper Hewit' ;\n",
       "    font-size: 20px;\n",
       "    padding-bottom : 26px;\n",
       "}\n",
       "\n",
       ".text_cell_render h4 {\n",
       "    font-size: 20px;\n",
       "    text-align: center;\n",
       "}\n",
       "\n",
       ".text_cell.rendered .input_prompt {\n",
       "    display : none !important;\n",
       "}\n",
       "\n",
       ".text_cell_render table {\n",
       "    width: 860px;\n",
       "    margin: 26px auto;\n",
       "    text-align: center;\n",
       "}\n",
       "\n",
       ".text_cell_render td,\n",
       ".text_cell_render th {\n",
       "    padding: 8px;\n",
       "    text-align: center;\n",
       "}\n",
       "\n",
       ".text_cell_render table thead {\n",
       "    background-color: #333;\n",
       "    color: white;\n",
       "    font-family: 'Cooper Hewit Light';\n",
       "    text-align: center;\n",
       "}\n",
       "\n",
       ".CodeMirror {\n",
       "    padding: 8px 20px;\n",
       "}\n",
       ".CodeMirror pre {\n",
       "    font-size: 20px;\n",
       "    line-height: 28px;\n",
       "}\n",
       "\n",
       "div.output_text pre {\n",
       "    color: #333;\n",
       "    font-size: 18px;\n",
       "    line-height: 26px;\n",
       "}\n",
       ".output_png img{\n",
       "    margin: 0 auto;\n",
       "    margin-top: 12px;\n",
       "    display: block;\n",
       "    min-width: 600px;\n",
       "}\n",
       "\n",
       ".rendered_html blockquote cite:before {\n",
       "    content: 'â€” ';\n",
       "}\n",
       ".rendered_html blockquote p:before {\n",
       "    content: \"â€œ\";\n",
       "    font-size: 160px;\n",
       "    color: rgba(218, 218, 218, 0.68);\n",
       "    position: relative;\n",
       "    margin-left: -72px;\n",
       "    top: 32px;\n",
       "    left: 37px;\n",
       "    font-family: Cooper Hewitt Bold;\n",
       "    z-index: 0;\n",
       "}\n",
       ".rendered_html blockquote {\n",
       "    clear: both;\n",
       "    border: none;\n",
       "}\n",
       "\n",
       ".rendered_html blockquote p:after {\n",
       "    visibility: hidden;\n",
       "    display: block;\n",
       "    content: \"\";\n",
       "    clear: both;\n",
       "    height: 0;\n",
       "\n",
       "}\n",
       "\n",
       ".rendered_html blockquote cite {\n",
       "    display: block;\n",
       "    padding-left: 30%;\n",
       "    padding-right: 10%;\n",
       "    text-align: right;\n",
       "    margin-top: 12px;\n",
       "}\n",
       "\n",
       "li > * > li {\n",
       "    margin-left: 24px;\n",
       "    line-height: 30px;\n",
       "}\n",
       "\n",
       ".rendered_html li {\n",
       "    padding-bottom: 12px;\n",
       "    padding-left: 12px;\n",
       "    margin-left: 20px;\n",
       "}\n",
       "\n",
       "li > ul,\n",
       "li > ol {\n",
       "    margin-top: 12px !important;\n",
       "    padding-bottom: 0px !important;\n",
       "}\n",
       "\n",
       ".rendered_html strong {\n",
       "    font-family: 'Cooper Hewit Bold';\n",
       "    color: #007eff;\n",
       "}\n",
       "\n",
       "</style>"
      ],
      "text/plain": [
       "<IPython.core.display.HTML object>"
      ]
     },
     "metadata": {},
     "output_type": "display_data"
    }
   ],
   "source": [
    "# %load utils/imports.py\n",
    "from utils.styles import *"
   ]
  },
  {
   "cell_type": "markdown",
   "metadata": {
    "nbpresent": {
     "id": "0130085f-df7f-4725-9c03-e8879d3ebcac"
    },
    "slideshow": {
     "slide_type": "slide"
    }
   },
   "source": [
    "# Jupyter Notebook Slide Deck"
   ]
  },
  {
   "cell_type": "markdown",
   "metadata": {
    "nbpresent": {
     "id": "e95911c5-a7d3-444a-b6ac-bb9e567e58b7"
    },
    "slideshow": {
     "slide_type": "-"
    }
   },
   "source": [
    "1. Perform you analysis of your dataset in a Jupyter Notebook.\n",
    "2. Mark up the content you want to share in a presentation.\n",
    "3. Export it to an HTML page which contains an interactive presentation."
   ]
  },
  {
   "cell_type": "code",
   "execution_count": null,
   "metadata": {
    "collapsed": true,
    "slideshow": {
     "slide_type": "slide"
    }
   },
   "outputs": [],
   "source": [
    "CHANGES MORE CONTENT MORE CONTENT\n",
    "\n",
    "ASDF ASFADSF\n",
    "\n",
    "asdfdsaf\n",
    "\n",
    "\n",
    "MORE MORE MORE MORE MORE MORE MORE"
   ]
  },
  {
   "cell_type": "code",
   "execution_count": 2,
   "metadata": {
    "collapsed": false,
    "nbpresent": {
     "id": "faad968c-aa99-46da-b57d-883f58dbcb57"
    },
    "slideshow": {
     "slide_type": "slide"
    }
   },
   "outputs": [
    {
     "data": {
      "text/html": [
       "\n",
       "        <iframe\n",
       "            width=\"100%\"\n",
       "            height=\"600\"\n",
       "            src=\"http://slides.com/droste/harbour-front/embed?scrolling=no&frameborder=0\"\n",
       "            frameborder=\"0\"\n",
       "            allowfullscreen\n",
       "        ></iframe>\n",
       "        "
      ],
      "text/plain": [
       "<IPython.lib.display.IFrame at 0x39ec128>"
      ]
     },
     "execution_count": 2,
     "metadata": {},
     "output_type": "execute_result"
    }
   ],
   "source": [
    "from IPython.display import IFrame\n",
    "IFrame(\"http://slides.com/droste/harbour-front/embed\", width=\"100%\", height=\"600\", scrolling=\"no\", frameborder=\"0\")"
   ]
  },
  {
   "cell_type": "markdown",
   "metadata": {
    "nbpresent": {
     "id": "2cbf526c-1a21-40ee-a157-fd816f022130"
    },
    "slideshow": {
     "slide_type": "slide"
    }
   },
   "source": [
    "## How To - Basics"
   ]
  },
  {
   "cell_type": "markdown",
   "metadata": {
    "nbpresent": {
     "id": "291ee8e1-9e86-4341-9340-01c2c4b9cca6"
    },
    "slideshow": {
     "slide_type": "fragment"
    }
   },
   "source": [
    "### 1. Open up the cell toolbar"
   ]
  },
  {
   "cell_type": "markdown",
   "metadata": {
    "nbpresent": {
     "id": "6d65319e-b278-4b2c-afeb-a1d562139c8d"
    }
   },
   "source": [
    "![](images/slides_1.png)"
   ]
  },
  {
   "cell_type": "markdown",
   "metadata": {
    "nbpresent": {
     "id": "8c02a458-d8da-425e-adf7-2dfa845727f7"
    },
    "slideshow": {
     "slide_type": "slide"
    }
   },
   "source": [
    "### 2. Mark up your cells by setting their `Slide Type`"
   ]
  },
  {
   "cell_type": "markdown",
   "metadata": {
    "nbpresent": {
     "id": "51ac43df-d2a5-4d31-8b29-def16b7c5deb"
    },
    "slideshow": {
     "slide_type": "fragment"
    }
   },
   "source": [
    "* `Slide` - The basic unit to contain contents. \n",
    "* `Sub-Slide` - Similar to `Slide` but it adds it 'below' the previous slide when the presentation is rendered in the browser, instead of next to it. I.e.  you can organise your cells _vertically_ in addition to _horizontally_. In presentation mode, use <kbd>▲</kbd> and <kbd>▼</kbd> keys for navigation.\n",
    "* `-` - Add the cell contents to the current slide.\n",
    "* `Fragment` - Similar to `-`, except that it requires an additional <kbd>▸</kbd> for it to be revealed.\n",
    "* `Skip` - This will add the contents to the HTML source code, but skip it when rendering the slide show.\n",
    "* `Notes` - Speaker notes, which can be accessed through <kbd>Shift</kbd> + <kbd>s</kbd> in presentation mode."
   ]
  },
  {
   "cell_type": "markdown",
   "metadata": {
    "nbpresent": {
     "id": "2fe32a45-e9e1-473a-b0cc-d3a65923fa09"
    },
    "slideshow": {
     "slide_type": "slide"
    }
   },
   "source": [
    "### 3. Use `nbconvert` to generate the HTML"
   ]
  },
  {
   "cell_type": "markdown",
   "metadata": {
    "nbpresent": {
     "id": "88efa2fe-3e37-4aef-a0d4-7140dcd2e166"
    },
    "slideshow": {
     "slide_type": "fragment"
    }
   },
   "source": [
    "In your terminal, replace `PATH_TO_NOTEBOOK` with the path to your notebook, and run:"
   ]
  },
  {
   "cell_type": "markdown",
   "metadata": {
    "nbpresent": {
     "id": "46135929-4002-4332-817e-1dfd01f40874"
    },
    "slideshow": {
     "slide_type": "-"
    }
   },
   "source": [
    "`jupyter nbconvert PATH_TO_NOTEBOOK.ipynb --to slides`"
   ]
  },
  {
   "cell_type": "markdown",
   "metadata": {
    "nbpresent": {
     "id": "96bdf071-76e5-4984-942a-4f95a00769e3"
    },
    "slideshow": {
     "slide_type": "fragment"
    }
   },
   "source": [
    "This creates the HTML file for you, however, you will need to view them through a _webserver_ for it to render correctly. The easiest way is to just append `--post serve` to the above command."
   ]
  },
  {
   "cell_type": "markdown",
   "metadata": {
    "nbpresent": {
     "id": "b25002d9-1b16-4cdb-af3a-cd820fb3cad9"
    },
    "slideshow": {
     "slide_type": "-"
    }
   },
   "source": [
    "`jupyter nbconvert PATH_TO_NOTEBOOK.ipynb --to slides --post serve`"
   ]
  },
  {
   "cell_type": "markdown",
   "metadata": {
    "nbpresent": {
     "id": "fb61c378-6538-4405-b1c7-bba0554fc713"
    },
    "slideshow": {
     "slide_type": "fragment"
    }
   },
   "source": [
    "To make slides that don’t require a webserver to function, you can add `--reveal-prefix` and point directly to RevealJS from a CDN (Content Distribution Network)."
   ]
  },
  {
   "cell_type": "markdown",
   "metadata": {
    "nbpresent": {
     "id": "0efc80d5-3809-4342-8a46-a18d155d6673"
    },
    "slideshow": {
     "slide_type": "-"
    }
   },
   "source": [
    "`jupyter nbconvert PATH_TO_NOTEBOOK.ipynb --to slides --reveal-prefix https://cdn.jsdelivr.net/reveal.js/3.0.0/`"
   ]
  },
  {
   "cell_type": "markdown",
   "metadata": {
    "nbpresent": {
     "id": "1dc3c8f8-08a3-4a33-9552-72314d1653ba"
    },
    "slideshow": {
     "slide_type": "skip"
    }
   },
   "source": [
    "If you want to make slides that function without an internet connection, just place the `Reveal.js` library in the same directory where `notebook.slides.html` is located, or point to another directory using the `--reveal-prefix` alias."
   ]
  },
  {
   "cell_type": "markdown",
   "metadata": {
    "nbpresent": {
     "id": "44c1fb84-1925-46d6-9222-d78cffa47970"
    },
    "slideshow": {
     "slide_type": "slide"
    }
   },
   "source": [
    "## How To - Advanced"
   ]
  },
  {
   "cell_type": "markdown",
   "metadata": {
    "nbpresent": {
     "id": "1aa72859-14f6-4469-b5a4-e07f9772d97d"
    },
    "slideshow": {
     "slide_type": "skip"
    }
   },
   "source": [
    "Based on this [post](http://echorand.me/presentation-slides-with-jupyter-notebook.html#.V9kNPnV94UE) from  Amit Saha."
   ]
  },
  {
   "cell_type": "markdown",
   "metadata": {
    "nbpresent": {
     "id": "5a1c3a7a-0f4b-42bc-b0c4-4630f746b212"
    },
    "slideshow": {
     "slide_type": "-"
    }
   },
   "source": [
    "Now how would you share these slides with others? You could of course just share the static HTML file as an attachment, and hope that your audience won't find it strange to receive an HTML file. Alternatively you could host your slides on GitHub, and serve them up on a dedicated URL. "
   ]
  },
  {
   "cell_type": "markdown",
   "metadata": {
    "nbpresent": {
     "id": "e59f8e7c-ff66-4ebf-8450-a5736c1380fd"
    },
    "slideshow": {
     "slide_type": "skip"
    }
   },
   "source": [
    "The following makes use of [GitHub Pages](https://pages.github.com/) which is a service by Github to host static (that is without a back-end) sites."
   ]
  },
  {
   "cell_type": "markdown",
   "metadata": {
    "nbpresent": {
     "id": "724086fd-1d18-4ba9-857d-5696762ef481"
    },
    "slideshow": {
     "slide_type": "-"
    }
   },
   "source": [
    "Go ahead and fork this repo first. This creates your personal copy, like a placeholder for your slides."
   ]
  },
  {
   "cell_type": "markdown",
   "metadata": {
    "nbpresent": {
     "id": "49aee13b-3676-44aa-a8aa-f6f937d6c5a1"
    },
    "slideshow": {
     "slide_type": "-"
    }
   },
   "source": [
    "[https://github.com/drostehk/jupyter-notebook-slides/tree/gh-pages](https://github.com/drostehk/jupyter-notebook-slides/tree/gh-pages)"
   ]
  },
  {
   "cell_type": "markdown",
   "metadata": {
    "nbpresent": {
     "id": "aabb7822-dc78-499b-9e4a-9b3502bc2453"
    },
    "slideshow": {
     "slide_type": "slide"
    }
   },
   "source": [
    "Now that you have your own copy of the source files, clone it to your local machine - replace `<your-user-name>` ."
   ]
  },
  {
   "cell_type": "markdown",
   "metadata": {
    "nbpresent": {
     "id": "447d9550-5278-4832-9e24-8a022d664c30"
    },
    "slideshow": {
     "slide_type": "-"
    }
   },
   "source": [
    "```bash\n",
    "git clone git@github.com:<your-user-name>/jupyter-notebook-slides.git\n",
    "cd jupyter-notebook-slides\n",
    "```"
   ]
  },
  {
   "cell_type": "markdown",
   "metadata": {
    "nbpresent": {
     "id": "8f4376c2-31ae-4415-aa23-979529ffae87"
    },
    "slideshow": {
     "slide_type": "-"
    }
   },
   "source": [
    "Now you can start the notebook server here with `jupyter notebook` (perhaps first activating your conda environment) and building up your content. Once you are done you can run the included `publish.sh` script which takes care of all the steps needed if you are looking to make your slides available on `<your-user-name>.github.io/jupyter-notebook-slides/`. If you want to have a different domain path, simply rename the repo to something else. If you want to have a completely custom url, look into [adding a `CNAME` record to your repo](https://help.github.com/articles/quick-start-setting-up-a-custom-domain/)."
   ]
  },
  {
   "cell_type": "markdown",
   "metadata": {
    "nbpresent": {
     "id": "188258c8-53f5-43a6-bae1-13d8d7efe8c8"
    },
    "slideshow": {
     "slide_type": "slide"
    }
   },
   "source": [
    "```sh\n",
    "#!/bin/bash\n",
    "\n",
    "jupyter-nbconvert --to slides slides.ipynb --reveal-prefix=reveal.js\n",
    "mv slides.slides.html  index.html\n",
    "mkdir -p /tmp/workspace\n",
    "cp -r * /tmp/workspace/\n",
    "git add -A .\n",
    "git commit -m \"Update\"\n",
    "git checkout -B gh-pages\n",
    "cp -r /tmp/workspace/* .\n",
    "git add -A .\n",
    "git commit -m \"new version\"\n",
    "git push origin master gh-pages\n",
    "git checkout master\n",
    "rm -rf /tmp/workspace\n",
    "```"
   ]
  },
  {
   "cell_type": "markdown",
   "metadata": {
    "nbpresent": {
     "id": "edf7cf44-6b31-46c5-838c-9412f0d3953b"
    },
    "slideshow": {
     "slide_type": "-"
    }
   },
   "source": [
    "Note that as this is a bash script, you will need to have the anniversary edition of Windows 10 which features bash, or use OSX/Linux."
   ]
  },
  {
   "cell_type": "markdown",
   "metadata": {
    "nbpresent": {
     "id": "1b9f5141-cf02-4ed6-bd94-39103e1b00d5"
    },
    "slideshow": {
     "slide_type": "slide"
    }
   },
   "source": [
    "### Toggling Input Cells"
   ]
  },
  {
   "cell_type": "markdown",
   "metadata": {
    "nbpresent": {
     "id": "ae5266e3-36a1-42c6-87b6-23f6ba33b06e"
    },
    "slideshow": {
     "slide_type": "-"
    }
   },
   "source": [
    "Hiding input cells isn't coming until version [4.4](https://github.com/jupyter/notebook/milestone/13) of jupyter, but in the meantime you can use a custom JS script to hide the input cells in your presentations. Put this on your first slide so you have the option to toggle your input cells on or off. Very handy if you've got an audience which would like to know exactly how a particular result / graph was created."
   ]
  },
  {
   "cell_type": "code",
   "execution_count": 5,
   "metadata": {
    "collapsed": false,
    "nbpresent": {
     "id": "298c1861-0713-418a-af41-bd914a738d45"
    },
    "slideshow": {
     "slide_type": "skip"
    }
   },
   "outputs": [],
   "source": [
    "%%script false\n",
    "# This line will hide code by default when the notebook is exported as HTML\n",
    "HTML('''<script>jQuery(function() {if (jQuery(\"body.notebook_app\").length == 0) {\n",
    "        jQuery(\".input_area\").toggle(); jQuery(\".prompt\").toggle();}});</script>''')"
   ]
  },
  {
   "cell_type": "code",
   "execution_count": 6,
   "metadata": {
    "collapsed": false,
    "nbpresent": {
     "id": "b04a118f-25f4-42f0-a058-96bae4f88d5c"
    },
    "slideshow": {
     "slide_type": "fragment"
    }
   },
   "outputs": [
    {
     "data": {
      "text/html": [
       "<button style=\"margin:0 auto; display: block;\" onclick=\"jQuery('.code_cell .input_area').toggle();\n",
       "    jQuery('.prompt').toggle();\">Toggle code</button>"
      ],
      "text/plain": [
       "<IPython.core.display.HTML object>"
      ]
     },
     "execution_count": 6,
     "metadata": {},
     "output_type": "execute_result"
    }
   ],
   "source": [
    "# This line will add a button to toggle visibility of code blocks,\n",
    "# for use with the HTML export version\n",
    "\n",
    "HTML('''<button style=\"margin:0 auto; display: block;\" onclick=\"jQuery('.code_cell .input_area').toggle();\n",
    "    jQuery('.prompt').toggle();\">Toggle code</button>''')"
   ]
  },
  {
   "cell_type": "markdown",
   "metadata": {
    "nbpresent": {
     "id": "336b06b6-c169-43da-9802-999d71b9322c"
    },
    "slideshow": {
     "slide_type": "skip"
    }
   },
   "source": [
    "Which is really great for presentation, but even for sharing your work as a notebook, this may be desirable."
   ]
  },
  {
   "cell_type": "markdown",
   "metadata": {
    "nbpresent": {
     "id": "e6cf128d-5083-4d6a-9247-76461a3a4d68"
    },
    "slideshow": {
     "slide_type": "slide"
    }
   },
   "source": [
    "## Tips & Tricks"
   ]
  },
  {
   "cell_type": "markdown",
   "metadata": {
    "nbpresent": {
     "id": "1dfd69ee-1d44-4f57-b346-073c5fccad45"
    },
    "slideshow": {
     "slide_type": "fragment"
    }
   },
   "source": [
    "`1`. **The Jupyter Notebook can embed _anything_** - So now your presentations don't have to be limited to static content. Use Jupyter to embed webpages as with `IPython.display.IFrame`, or get maximum flexibility by writing out plain `HTML` though `IPython.display.HTML`, this is also how you would embed JavaScript, custom styles or anything you like. For YouTube videos, there's a dedicated `IPython.display.YouTubeVideo`. See below for examples."
   ]
  },
  {
   "cell_type": "markdown",
   "metadata": {
    "nbpresent": {
     "id": "005a2811-df9d-46f8-9ccc-f18d3efda18c"
    },
    "slideshow": {
     "slide_type": "fragment"
    }
   },
   "source": [
    "`2`. **The library used to create and control the slide deck is called [RevealJS](https://github.com/hakimel/reveal.js/)** - If you wanted to customise the way your slide deck looked or functioned, that would be the place to start"
   ]
  },
  {
   "cell_type": "markdown",
   "metadata": {
    "nbpresent": {
     "id": "16bd9d66-bfd2-4cd7-b860-ec9f70f89ba9"
    },
    "slideshow": {
     "slide_type": "fragment"
    }
   },
   "source": [
    "`3`. **There is a web-based editor called [Slid.es](http://slides.com/)** - If you wanted to tweak your presentation beyond the default layout provided by [MarkDown](https://github.com/adam-p/markdown-here/wiki/Markdown-Cheatsheet), I'd recommend [importing](http://help.slides.com/knowledgebase/articles/271213-import-from-reveal-js) the generated html into the web editor for further tweaking. It's really an excellent tool, one which I've used to create [all my presentations for Droste](https://slides.com/droste)"
   ]
  },
  {
   "cell_type": "markdown",
   "metadata": {
    "nbpresent": {
     "id": "cb99ff28-269c-4786-8127-997a4df37f1c"
    },
    "slideshow": {
     "slide_type": "fragment"
    }
   },
   "source": [
    "`4`. **Slid.es also has a [live streaming presentation mode](http://help.slides.com/knowledgebase/articles/333924-live-streaming)**. If you are presenting over a conference call, or to a larger audience, your presentations can be broadcasted in real-time to your audience. This means that they open your presentation in their browsers and are kept in sync as you present. Being able to follow a presentation on one's own device is useful since it maintains interactivity like embedded links and isn't subject to compression like video."
   ]
  },
  {
   "cell_type": "markdown",
   "metadata": {
    "nbpresent": {
     "id": "8f2b04c2-6dc4-4f69-bf22-5550142e3ec2"
    },
    "slideshow": {
     "slide_type": "slide"
    }
   },
   "source": [
    "## Best Practices"
   ]
  },
  {
   "cell_type": "markdown",
   "metadata": {
    "nbpresent": {
     "id": "b31d7943-268a-4e6f-96d2-56f610bc3ad0"
    },
    "slideshow": {
     "slide_type": "fragment"
    }
   },
   "source": [
    "`1`. **Your work ≠ your presentation** - Do _not_ present your work. Take the _result_ of your work and use that as a _basis_ for your presentation. The best practice is to create a seperate notebook for your presentation and port over the code which generates the graphs / tables / metrics you want to present, stripping out all the additional cruft. This also allows you to re-arrange the sequence of your content. Do not underestimate the effectiveness of a strong narrative - the data science flow (e.g. acquisition > cleaning > EDA > modeling > validation, tuning > analysis > conclusion) is **never** the right flow for your presentation."
   ]
  },
  {
   "cell_type": "markdown",
   "metadata": {
    "nbpresent": {
     "id": "4a7e5f09-9843-4901-aa70-ece4d3a03279"
    },
    "slideshow": {
     "slide_type": "fragment"
    }
   },
   "source": [
    "`2`. **Annotate, Explain, Style** - While you might want to re-use some of the graphs you've plotted during your analysis, you might realise that the plot makes a lot of sense to you - someone who was knee-deep into the analysis already - but requires more context for your audience. Make sure to label your axis, title your graph, annotate and highlight features of interest in your graph, adapt for the company style guide if necessary."
   ]
  },
  {
   "cell_type": "markdown",
   "metadata": {
    "nbpresent": {
     "id": "3e0b52fa-3699-488d-9c7c-33fbaba01b0a"
    },
    "slideshow": {
     "slide_type": "slide"
    }
   },
   "source": [
    "## Embedded Content Examples"
   ]
  },
  {
   "cell_type": "markdown",
   "metadata": {
    "nbpresent": {
     "id": "7d80ba28-82ac-4718-8595-dbd3e0466d3b"
    },
    "slideshow": {
     "slide_type": "subslide"
    }
   },
   "source": [
    "### Embedding Custom Styles"
   ]
  },
  {
   "cell_type": "code",
   "execution_count": 7,
   "metadata": {
    "collapsed": false,
    "nbpresent": {
     "id": "e15dca11-7e60-41c2-bd4c-8f0ca6e78a5a"
    },
    "slideshow": {
     "slide_type": "fragment"
    }
   },
   "outputs": [
    {
     "data": {
      "text/html": [
       "<style>kbd {\n",
       "    background:#EEEEEE none repeat scroll 0 0;\n",
       "    border-color:#CCCCCC #AAAAAA #888888 #BBBBBB;\n",
       "    border-style:solid;\n",
       "    border-width:1px 1px 2px 2px;\n",
       "    color:#000000;\n",
       "    padding:2px 1px;\n",
       "    white-space:nowrap;\n",
       "}</style>"
      ],
      "text/plain": [
       "<IPython.core.display.HTML object>"
      ]
     },
     "execution_count": 7,
     "metadata": {},
     "output_type": "execute_result"
    }
   ],
   "source": [
    "from IPython.display import HTML\n",
    "HTML(\"\"\"<style>kbd {\n",
    "    background:#EEEEEE none repeat scroll 0 0;\n",
    "    border-color:#CCCCCC #AAAAAA #888888 #BBBBBB;\n",
    "    border-style:solid;\n",
    "    border-width:1px 1px 2px 2px;\n",
    "    color:#000000;\n",
    "    padding:2px 1px;\n",
    "    white-space:nowrap;\n",
    "}</style>\"\"\")"
   ]
  },
  {
   "cell_type": "markdown",
   "metadata": {
    "nbpresent": {
     "id": "3838f767-3ff2-488b-ac08-e20de5c4d7cf"
    },
    "slideshow": {
     "slide_type": "subslide"
    }
   },
   "source": [
    "### Embedding Custom HTML"
   ]
  },
  {
   "cell_type": "code",
   "execution_count": 8,
   "metadata": {
    "collapsed": false,
    "nbpresent": {
     "id": "c709dadf-70e2-43f8-83f8-19262882a9f0"
    },
    "slideshow": {
     "slide_type": "fragment"
    }
   },
   "outputs": [
    {
     "data": {
      "text/html": [
       "<video width=\"50%\" style=\"margin-left:25%; margin-top:2em\" loop=\"true\" muted=\"\" autoplay=\"true\">\n",
       "    <source src=\"https://s3.amazonaws.com/static.slid.es/site/homepage/v2/homepage-video-editor.mp4\" type=\"video/mp4\">\n",
       "    <source src=\"https://s3.amazonaws.com/static.slid.es/site/homepage/v2/homepage-video-editor.webm\" type=\"video/webm\"></video>"
      ],
      "text/plain": [
       "<IPython.core.display.HTML object>"
      ]
     },
     "execution_count": 8,
     "metadata": {},
     "output_type": "execute_result"
    }
   ],
   "source": [
    "from IPython.display import HTML\n",
    "HTML(\"\"\"<video width=\"50%\" style=\"margin-left:25%; margin-top:2em\" loop=\"true\" muted=\"\" autoplay=\"true\">\n",
    "    <source src=\"https://s3.amazonaws.com/static.slid.es/site/homepage/v2/homepage-video-editor.mp4\" type=\"video/mp4\">\n",
    "    <source src=\"https://s3.amazonaws.com/static.slid.es/site/homepage/v2/homepage-video-editor.webm\" type=\"video/webm\"></video>\"\"\")"
   ]
  },
  {
   "cell_type": "markdown",
   "metadata": {
    "nbpresent": {
     "id": "1287cff9-e2be-4f40-9a2a-558feef72fdf"
    },
    "slideshow": {
     "slide_type": "subslide"
    }
   },
   "source": [
    "### Embedding JS"
   ]
  },
  {
   "cell_type": "code",
   "execution_count": 9,
   "metadata": {
    "collapsed": false,
    "nbpresent": {
     "id": "d5112dd2-2777-4bc2-8150-324b349ea640"
    },
    "slideshow": {
     "slide_type": "fragment"
    }
   },
   "outputs": [
    {
     "data": {
      "application/javascript": [
       "require.config({\n",
       "    paths: {\n",
       "      mapboxgl: 'https://api.tiles.mapbox.com/mapbox-gl-js/v0.23.0/mapbox-gl'\n",
       "    }\n",
       "});\n",
       "\n",
       "require(['mapboxgl'], function(mapboxgl){\n",
       "    element.append('<div id=\"map\" style=\"height:600px\"></div>');\n",
       "    mapboxgl.accessToken = 'pk.eyJ1IjoiYm1jY29yZCIsImEiOiJjaXQyazhoanIwc3NvMnpraDZwazNsNm00In0.t6NW3HmiPs7M6Y7MHGH8jA';\n",
       "    var map = new mapboxgl.Map({\n",
       "        container: 'map', // container id\n",
       "        style: 'mapbox://styles/mapbox/streets-v9', //stylesheet location\n",
       "        center: [114.35, 22.48], // starting position\n",
       "        zoom: 9 // starting zoom\n",
       "    });\n",
       " });"
      ],
      "text/plain": [
       "<IPython.core.display.Javascript object>"
      ]
     },
     "metadata": {},
     "output_type": "display_data"
    }
   ],
   "source": [
    "%%javascript\n",
    "require.config({\n",
    "    paths: {\n",
    "      mapboxgl: 'https://api.tiles.mapbox.com/mapbox-gl-js/v0.23.0/mapbox-gl'\n",
    "    }\n",
    "});\n",
    "\n",
    "require(['mapboxgl'], function(mapboxgl){\n",
    "    element.append('<div id=\"map\" style=\"height:600px\"></div>');\n",
    "    mapboxgl.accessToken = 'pk.eyJ1IjoiYm1jY29yZCIsImEiOiJjaXQyazhoanIwc3NvMnpraDZwazNsNm00In0.t6NW3HmiPs7M6Y7MHGH8jA';\n",
    "    var map = new mapboxgl.Map({\n",
    "        container: 'map', // container id\n",
    "        style: 'mapbox://styles/mapbox/streets-v9', //stylesheet location\n",
    "        center: [114.35, 22.48], // starting position\n",
    "        zoom: 9 // starting zoom\n",
    "    });\n",
    " });"
   ]
  },
  {
   "cell_type": "markdown",
   "metadata": {
    "nbpresent": {
     "id": "f815329a-bc25-48e6-900c-8ebd177c30e0"
    },
    "slideshow": {
     "slide_type": "subslide"
    }
   },
   "source": [
    "### Embedding a YouTube Video"
   ]
  },
  {
   "cell_type": "code",
   "execution_count": 11,
   "metadata": {
    "collapsed": false,
    "nbpresent": {
     "id": "93156324-a6d6-4d00-a006-9394c468332d"
    },
    "slideshow": {
     "slide_type": "fragment"
    }
   },
   "outputs": [
    {
     "data": {
      "text/html": [
       "\n",
       "        <iframe\n",
       "            width=\"70%\"\n",
       "            height=\"600\"\n",
       "            src=\"https://www.youtube.com/embed/Rc4JQWowG5I?showinfo=0&controls=2\"\n",
       "            frameborder=\"0\"\n",
       "            allowfullscreen\n",
       "        ></iframe>\n",
       "        "
      ],
      "text/plain": [
       "<IPython.lib.display.YouTubeVideo at 0x39ec0b8>"
      ]
     },
     "execution_count": 11,
     "metadata": {},
     "output_type": "execute_result"
    }
   ],
   "source": [
    "from IPython.display import YouTubeVideo\n",
    "YouTubeVideo('Rc4JQWowG5I', '70%', 600, controls=2, showinfo=0)"
   ]
  },
  {
   "cell_type": "code",
   "execution_count": null,
   "metadata": {
    "collapsed": true
   },
   "outputs": [],
   "source": []
  }
 ],
 "metadata": {
  "anaconda-cloud": {},
  "celltoolbar": "Slideshow",
  "hide_input": false,
  "kernelspec": {
   "display_name": "Python 2",
   "language": "python",
   "name": "python2"
  },
  "language_info": {
   "codemirror_mode": {
    "name": "ipython",
    "version": 2
   },
   "file_extension": ".py",
   "mimetype": "text/x-python",
   "name": "python",
   "nbconvert_exporter": "python",
   "pygments_lexer": "ipython2",
   "version": "2.7.11"
  }
 },
 "nbformat": 4,
 "nbformat_minor": 1
}
